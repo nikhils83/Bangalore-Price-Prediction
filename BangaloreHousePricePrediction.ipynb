{
  "cells": [
    {
      "cell_type": "code",
      "source": [
        "import pandas as pd\n",
        "import numpy as np\n",
        "import seaborn as sns\n",
        "import matplotlib.pyplot as plt\n",
        "%matplotlib inline\n",
        "import matplotlib\n",
        "import warnings\n",
        "warnings.filterwarnings('ignore')\n",
        "matplotlib.rcParams[\"figure.figsize\"] = (20,10)"
      ],
      "outputs": [],
      "execution_count": 17,
      "metadata": {
        "gather": {
          "logged": 1715755594156
        }
      }
    },
    {
      "cell_type": "code",
      "source": [
        "\n",
        "# azureml-core of version 1.0.72 or higher is required\n",
        "# azureml-dataprep[pandas] of version 1.1.34 or higher is required\n",
        "from azureml.core import Workspace, Dataset\n",
        "\n",
        "subscription_id = 'c801384f-2a2e-4703-a4ac-3581a9e9831d'\n",
        "resource_group = 'nikhil66589openai'\n",
        "workspace_name = 'nikhil66589AML'\n",
        "\n",
        "workspace = Workspace(subscription_id, resource_group, workspace_name)\n",
        "\n",
        "= = Dataset.get_by_name(workspace, name='BangaloreHousePrice')\n",
        "bangalorepricedf = dataset.to_pandas_dataframe()"
      ],
      "outputs": [],
      "execution_count": 23,
      "metadata": {
        "jupyter": {
          "source_hidden": false,
          "outputs_hidden": false
        },
        "nteract": {
          "transient": {
            "deleting": false
          }
        },
        "gather": {
          "logged": 1715755912871
        }
      }
    },
    {
      "cell_type": "code",
      "source": [
        "bangalorepricedf.head()"
      ],
      "outputs": [
        {
          "output_type": "execute_result",
          "execution_count": 25,
          "data": {
            "text/plain": "              area_type   availability                  location       size  \\\n0  Super built-up  Area         19-Dec  Electronic City Phase II      2 BHK   \n1            Plot  Area  Ready To Move          Chikka Tirupathi  4 Bedroom   \n2        Built-up  Area  Ready To Move               Uttarahalli      3 BHK   \n3  Super built-up  Area  Ready To Move        Lingadheeranahalli      3 BHK   \n4  Super built-up  Area  Ready To Move                  Kothanur      2 BHK   \n\n   society total_sqft  bath  balcony   price  \n0  Coomee        1056   2.0      1.0   39.07  \n1  Theanmp       2600   5.0      3.0  120.00  \n2     None       1440   2.0      3.0   62.00  \n3  Soiewre       1521   3.0      1.0   95.00  \n4     None       1200   2.0      1.0   51.00  ",
            "text/html": "<div>\n<style scoped>\n    .dataframe tbody tr th:only-of-type {\n        vertical-align: middle;\n    }\n\n    .dataframe tbody tr th {\n        vertical-align: top;\n    }\n\n    .dataframe thead th {\n        text-align: right;\n    }\n</style>\n<table border=\"1\" class=\"dataframe\">\n  <thead>\n    <tr style=\"text-align: right;\">\n      <th></th>\n      <th>area_type</th>\n      <th>availability</th>\n      <th>location</th>\n      <th>size</th>\n      <th>society</th>\n      <th>total_sqft</th>\n      <th>bath</th>\n      <th>balcony</th>\n      <th>price</th>\n    </tr>\n  </thead>\n  <tbody>\n    <tr>\n      <th>0</th>\n      <td>Super built-up  Area</td>\n      <td>19-Dec</td>\n      <td>Electronic City Phase II</td>\n      <td>2 BHK</td>\n      <td>Coomee</td>\n      <td>1056</td>\n      <td>2.0</td>\n      <td>1.0</td>\n      <td>39.07</td>\n    </tr>\n    <tr>\n      <th>1</th>\n      <td>Plot  Area</td>\n      <td>Ready To Move</td>\n      <td>Chikka Tirupathi</td>\n      <td>4 Bedroom</td>\n      <td>Theanmp</td>\n      <td>2600</td>\n      <td>5.0</td>\n      <td>3.0</td>\n      <td>120.00</td>\n    </tr>\n    <tr>\n      <th>2</th>\n      <td>Built-up  Area</td>\n      <td>Ready To Move</td>\n      <td>Uttarahalli</td>\n      <td>3 BHK</td>\n      <td>None</td>\n      <td>1440</td>\n      <td>2.0</td>\n      <td>3.0</td>\n      <td>62.00</td>\n    </tr>\n    <tr>\n      <th>3</th>\n      <td>Super built-up  Area</td>\n      <td>Ready To Move</td>\n      <td>Lingadheeranahalli</td>\n      <td>3 BHK</td>\n      <td>Soiewre</td>\n      <td>1521</td>\n      <td>3.0</td>\n      <td>1.0</td>\n      <td>95.00</td>\n    </tr>\n    <tr>\n      <th>4</th>\n      <td>Super built-up  Area</td>\n      <td>Ready To Move</td>\n      <td>Kothanur</td>\n      <td>2 BHK</td>\n      <td>None</td>\n      <td>1200</td>\n      <td>2.0</td>\n      <td>1.0</td>\n      <td>51.00</td>\n    </tr>\n  </tbody>\n</table>\n</div>"
          },
          "metadata": {}
        }
      ],
      "execution_count": 25,
      "metadata": {
        "jupyter": {
          "source_hidden": false,
          "outputs_hidden": false
        },
        "nteract": {
          "transient": {
            "deleting": false
          }
        },
        "gather": {
          "logged": 1715755924215
        }
      }
    },
    {
      "cell_type": "code",
      "source": [
        "bangalorepricedf.shape"
      ],
      "outputs": [
        {
          "output_type": "execute_result",
          "execution_count": 26,
          "data": {
            "text/plain": "(13320, 9)"
          },
          "metadata": {}
        }
      ],
      "execution_count": 26,
      "metadata": {
        "jupyter": {
          "source_hidden": false,
          "outputs_hidden": false
        },
        "nteract": {
          "transient": {
            "deleting": false
          }
        },
        "gather": {
          "logged": 1715755974572
        }
      }
    },
    {
      "cell_type": "code",
      "source": [
        "##Data Clean Up, Identify the blanks\n",
        "\n",
        "bangalorepricedf.isnull().sum()"
      ],
      "outputs": [
        {
          "output_type": "execute_result",
          "execution_count": 28,
          "data": {
            "text/plain": "area_type          0\navailability       0\nlocation           1\nsize              16\nsociety         5502\ntotal_sqft         0\nbath              73\nbalcony          609\nprice              0\ndtype: int64"
          },
          "metadata": {}
        }
      ],
      "execution_count": 28,
      "metadata": {
        "jupyter": {
          "source_hidden": false,
          "outputs_hidden": false
        },
        "nteract": {
          "transient": {
            "deleting": false
          }
        },
        "gather": {
          "logged": 1715756075266
        }
      }
    },
    {
      "cell_type": "code",
      "source": [
        "## Dropping the Column Society as it doesnt add much to the dataset, also removing area_type(as we have total SQFT) and availability)\n",
        "bangalorepricedf2 = bangalorepricedf.drop (['society','availability','area_type'], axis = 'columns')"
      ],
      "outputs": [],
      "execution_count": 32,
      "metadata": {
        "jupyter": {
          "source_hidden": false,
          "outputs_hidden": false
        },
        "nteract": {
          "transient": {
            "deleting": false
          }
        },
        "gather": {
          "logged": 1715756475145
        }
      }
    },
    {
      "cell_type": "code",
      "source": [
        "bangalorepricedf2.isnull().sum()"
      ],
      "outputs": [
        {
          "output_type": "execute_result",
          "execution_count": 33,
          "data": {
            "text/plain": "location        1\nsize           16\ntotal_sqft      0\nbath           73\nbalcony       609\nprice           0\ndtype: int64"
          },
          "metadata": {}
        }
      ],
      "execution_count": 33,
      "metadata": {
        "jupyter": {
          "source_hidden": false,
          "outputs_hidden": false
        },
        "nteract": {
          "transient": {
            "deleting": false
          }
        },
        "gather": {
          "logged": 1715756476846
        }
      }
    },
    {
      "cell_type": "code",
      "source": [
        "## Balcony - all the empty values are replaced with 0\n",
        "bangalorepricedf2[\"balcony\"] = bangalorepricedf2[\"balcony\"].fillna(0)\n",
        "bangalorepricedf2.isnull().sum()"
      ],
      "outputs": [
        {
          "output_type": "execute_result",
          "execution_count": 35,
          "data": {
            "text/plain": "location       1\nsize          16\ntotal_sqft     0\nbath          73\nbalcony        0\nprice          0\ndtype: int64"
          },
          "metadata": {}
        }
      ],
      "execution_count": 35,
      "metadata": {
        "jupyter": {
          "source_hidden": false,
          "outputs_hidden": false
        },
        "nteract": {
          "transient": {
            "deleting": false
          }
        },
        "gather": {
          "logged": 1715756667765
        }
      }
    },
    {
      "cell_type": "code",
      "source": [
        "#Drop all the rows where there is still null values\n",
        "bangalorepricedf3 = bangalorepricedf2.dropna()\n",
        "bangalorepricedf3.isnull().sum()"
      ],
      "outputs": [
        {
          "output_type": "execute_result",
          "execution_count": 36,
          "data": {
            "text/plain": "location      0\nsize          0\ntotal_sqft    0\nbath          0\nbalcony       0\nprice         0\ndtype: int64"
          },
          "metadata": {}
        }
      ],
      "execution_count": 36,
      "metadata": {
        "jupyter": {
          "source_hidden": false,
          "outputs_hidden": false
        },
        "nteract": {
          "transient": {
            "deleting": false
          }
        },
        "gather": {
          "logged": 1715756744901
        }
      }
    },
    {
      "cell_type": "code",
      "source": [
        "bangalorepricedf3.shape"
      ],
      "outputs": [
        {
          "output_type": "execute_result",
          "execution_count": 37,
          "data": {
            "text/plain": "(13246, 6)"
          },
          "metadata": {}
        }
      ],
      "execution_count": 37,
      "metadata": {
        "jupyter": {
          "source_hidden": false,
          "outputs_hidden": false
        },
        "nteract": {
          "transient": {
            "deleting": false
          }
        },
        "gather": {
          "logged": 1715756792340
        }
      }
    },
    {
      "cell_type": "code",
      "source": [
        "bangalorepricedf3.head()"
      ],
      "outputs": [
        {
          "output_type": "execute_result",
          "execution_count": 38,
          "data": {
            "text/plain": "                   location       size total_sqft  bath  balcony   price\n0  Electronic City Phase II      2 BHK       1056   2.0      1.0   39.07\n1          Chikka Tirupathi  4 Bedroom       2600   5.0      3.0  120.00\n2               Uttarahalli      3 BHK       1440   2.0      3.0   62.00\n3        Lingadheeranahalli      3 BHK       1521   3.0      1.0   95.00\n4                  Kothanur      2 BHK       1200   2.0      1.0   51.00",
            "text/html": "<div>\n<style scoped>\n    .dataframe tbody tr th:only-of-type {\n        vertical-align: middle;\n    }\n\n    .dataframe tbody tr th {\n        vertical-align: top;\n    }\n\n    .dataframe thead th {\n        text-align: right;\n    }\n</style>\n<table border=\"1\" class=\"dataframe\">\n  <thead>\n    <tr style=\"text-align: right;\">\n      <th></th>\n      <th>location</th>\n      <th>size</th>\n      <th>total_sqft</th>\n      <th>bath</th>\n      <th>balcony</th>\n      <th>price</th>\n    </tr>\n  </thead>\n  <tbody>\n    <tr>\n      <th>0</th>\n      <td>Electronic City Phase II</td>\n      <td>2 BHK</td>\n      <td>1056</td>\n      <td>2.0</td>\n      <td>1.0</td>\n      <td>39.07</td>\n    </tr>\n    <tr>\n      <th>1</th>\n      <td>Chikka Tirupathi</td>\n      <td>4 Bedroom</td>\n      <td>2600</td>\n      <td>5.0</td>\n      <td>3.0</td>\n      <td>120.00</td>\n    </tr>\n    <tr>\n      <th>2</th>\n      <td>Uttarahalli</td>\n      <td>3 BHK</td>\n      <td>1440</td>\n      <td>2.0</td>\n      <td>3.0</td>\n      <td>62.00</td>\n    </tr>\n    <tr>\n      <th>3</th>\n      <td>Lingadheeranahalli</td>\n      <td>3 BHK</td>\n      <td>1521</td>\n      <td>3.0</td>\n      <td>1.0</td>\n      <td>95.00</td>\n    </tr>\n    <tr>\n      <th>4</th>\n      <td>Kothanur</td>\n      <td>2 BHK</td>\n      <td>1200</td>\n      <td>2.0</td>\n      <td>1.0</td>\n      <td>51.00</td>\n    </tr>\n  </tbody>\n</table>\n</div>"
          },
          "metadata": {}
        }
      ],
      "execution_count": 38,
      "metadata": {
        "jupyter": {
          "source_hidden": false,
          "outputs_hidden": false
        },
        "nteract": {
          "transient": {
            "deleting": false
          }
        },
        "gather": {
          "logged": 1715756831903
        }
      }
    },
    {
      "cell_type": "code",
      "source": [
        "bangalorepricedf3['size'].unique()"
      ],
      "outputs": [
        {
          "output_type": "execute_result",
          "execution_count": 39,
          "data": {
            "text/plain": "array(['2 BHK', '4 Bedroom', '3 BHK', '4 BHK', '6 Bedroom', '3 Bedroom',\n       '1 BHK', '1 RK', '1 Bedroom', '8 Bedroom', '2 Bedroom',\n       '7 Bedroom', '5 BHK', '7 BHK', '6 BHK', '5 Bedroom', '11 BHK',\n       '9 BHK', '9 Bedroom', '27 BHK', '10 Bedroom', '11 Bedroom',\n       '10 BHK', '19 BHK', '16 BHK', '43 Bedroom', '14 BHK', '8 BHK',\n       '12 Bedroom', '13 BHK', '18 Bedroom'], dtype=object)"
          },
          "metadata": {}
        }
      ],
      "execution_count": 39,
      "metadata": {
        "jupyter": {
          "source_hidden": false,
          "outputs_hidden": false
        },
        "nteract": {
          "transient": {
            "deleting": false
          }
        },
        "gather": {
          "logged": 1715756869266
        }
      }
    },
    {
      "cell_type": "code",
      "source": [
        "##Create a new column called as BHK with value derived out of size column, drop the size column post creation of new attribute\n",
        "bangalorepricedf3['bhk'] = bangalorepricedf3['size'].apply(lambda x: int(x.split(' ')[0]))\n",
        "bangalorepricedf3 = bangalorepricedf3.drop (['size'], axis = 'columns')\n",
        "bangalorepricedf3.head()"
      ],
      "outputs": [
        {
          "output_type": "execute_result",
          "execution_count": 41,
          "data": {
            "text/plain": "                   location total_sqft  bath  balcony   price  bhk\n0  Electronic City Phase II       1056   2.0      1.0   39.07    2\n1          Chikka Tirupathi       2600   5.0      3.0  120.00    4\n2               Uttarahalli       1440   2.0      3.0   62.00    3\n3        Lingadheeranahalli       1521   3.0      1.0   95.00    3\n4                  Kothanur       1200   2.0      1.0   51.00    2",
            "text/html": "<div>\n<style scoped>\n    .dataframe tbody tr th:only-of-type {\n        vertical-align: middle;\n    }\n\n    .dataframe tbody tr th {\n        vertical-align: top;\n    }\n\n    .dataframe thead th {\n        text-align: right;\n    }\n</style>\n<table border=\"1\" class=\"dataframe\">\n  <thead>\n    <tr style=\"text-align: right;\">\n      <th></th>\n      <th>location</th>\n      <th>total_sqft</th>\n      <th>bath</th>\n      <th>balcony</th>\n      <th>price</th>\n      <th>bhk</th>\n    </tr>\n  </thead>\n  <tbody>\n    <tr>\n      <th>0</th>\n      <td>Electronic City Phase II</td>\n      <td>1056</td>\n      <td>2.0</td>\n      <td>1.0</td>\n      <td>39.07</td>\n      <td>2</td>\n    </tr>\n    <tr>\n      <th>1</th>\n      <td>Chikka Tirupathi</td>\n      <td>2600</td>\n      <td>5.0</td>\n      <td>3.0</td>\n      <td>120.00</td>\n      <td>4</td>\n    </tr>\n    <tr>\n      <th>2</th>\n      <td>Uttarahalli</td>\n      <td>1440</td>\n      <td>2.0</td>\n      <td>3.0</td>\n      <td>62.00</td>\n      <td>3</td>\n    </tr>\n    <tr>\n      <th>3</th>\n      <td>Lingadheeranahalli</td>\n      <td>1521</td>\n      <td>3.0</td>\n      <td>1.0</td>\n      <td>95.00</td>\n      <td>3</td>\n    </tr>\n    <tr>\n      <th>4</th>\n      <td>Kothanur</td>\n      <td>1200</td>\n      <td>2.0</td>\n      <td>1.0</td>\n      <td>51.00</td>\n      <td>2</td>\n    </tr>\n  </tbody>\n</table>\n</div>"
          },
          "metadata": {}
        }
      ],
      "execution_count": 41,
      "metadata": {
        "jupyter": {
          "source_hidden": false,
          "outputs_hidden": false
        },
        "nteract": {
          "transient": {
            "deleting": false
          }
        },
        "gather": {
          "logged": 1715757038320
        }
      }
    },
    {
      "cell_type": "code",
      "source": [
        "##Convert all the anomalies in the total SQFT to float values\n",
        "bangalorepricedf3.total_sqft.unique()"
      ],
      "outputs": [
        {
          "output_type": "execute_result",
          "execution_count": 43,
          "data": {
            "text/plain": "array(['1056', '2600', '1440', ..., '1133 - 1384', '774', '4689'],\n      dtype=object)"
          },
          "metadata": {}
        }
      ],
      "execution_count": 43,
      "metadata": {
        "jupyter": {
          "source_hidden": false,
          "outputs_hidden": false
        },
        "nteract": {
          "transient": {
            "deleting": false
          }
        },
        "gather": {
          "logged": 1715757423595
        }
      }
    },
    {
      "cell_type": "code",
      "source": [
        "def is_float(x):\n",
        "    try:\n",
        "        float(x)\n",
        "    except:\n",
        "        return False\n",
        "    return True\n",
        "\n",
        "\n",
        "bangalorepricedf3[~bangalorepricedf3['total_sqft'].apply(is_float)]"
      ],
      "outputs": [
        {
          "output_type": "execute_result",
          "execution_count": 45,
          "data": {
            "text/plain": "                 location   total_sqft  bath  balcony    price  bhk\n30              Yelahanka  2100 - 2850   4.0      0.0  186.000    4\n122                Hebbal  3067 - 8156   4.0      0.0  477.000    4\n137    8th Phase JP Nagar  1042 - 1105   2.0      0.0   54.005    2\n165              Sarjapur  1145 - 1340   2.0      0.0   43.490    2\n188              KR Puram  1015 - 1540   2.0      0.0   56.800    2\n...                   ...          ...   ...      ...      ...  ...\n12975          Whitefield   850 - 1060   2.0      0.0   38.190    2\n12990      Talaghattapura  1804 - 2273   3.0      0.0  122.000    3\n13059              Harlur  1200 - 1470   2.0      0.0   72.760    2\n13265               Hoodi  1133 - 1384   2.0      0.0   59.135    2\n13299          Whitefield  2830 - 2882   5.0      0.0  154.500    4\n\n[190 rows x 6 columns]",
            "text/html": "<div>\n<style scoped>\n    .dataframe tbody tr th:only-of-type {\n        vertical-align: middle;\n    }\n\n    .dataframe tbody tr th {\n        vertical-align: top;\n    }\n\n    .dataframe thead th {\n        text-align: right;\n    }\n</style>\n<table border=\"1\" class=\"dataframe\">\n  <thead>\n    <tr style=\"text-align: right;\">\n      <th></th>\n      <th>location</th>\n      <th>total_sqft</th>\n      <th>bath</th>\n      <th>balcony</th>\n      <th>price</th>\n      <th>bhk</th>\n    </tr>\n  </thead>\n  <tbody>\n    <tr>\n      <th>30</th>\n      <td>Yelahanka</td>\n      <td>2100 - 2850</td>\n      <td>4.0</td>\n      <td>0.0</td>\n      <td>186.000</td>\n      <td>4</td>\n    </tr>\n    <tr>\n      <th>122</th>\n      <td>Hebbal</td>\n      <td>3067 - 8156</td>\n      <td>4.0</td>\n      <td>0.0</td>\n      <td>477.000</td>\n      <td>4</td>\n    </tr>\n    <tr>\n      <th>137</th>\n      <td>8th Phase JP Nagar</td>\n      <td>1042 - 1105</td>\n      <td>2.0</td>\n      <td>0.0</td>\n      <td>54.005</td>\n      <td>2</td>\n    </tr>\n    <tr>\n      <th>165</th>\n      <td>Sarjapur</td>\n      <td>1145 - 1340</td>\n      <td>2.0</td>\n      <td>0.0</td>\n      <td>43.490</td>\n      <td>2</td>\n    </tr>\n    <tr>\n      <th>188</th>\n      <td>KR Puram</td>\n      <td>1015 - 1540</td>\n      <td>2.0</td>\n      <td>0.0</td>\n      <td>56.800</td>\n      <td>2</td>\n    </tr>\n    <tr>\n      <th>...</th>\n      <td>...</td>\n      <td>...</td>\n      <td>...</td>\n      <td>...</td>\n      <td>...</td>\n      <td>...</td>\n    </tr>\n    <tr>\n      <th>12975</th>\n      <td>Whitefield</td>\n      <td>850 - 1060</td>\n      <td>2.0</td>\n      <td>0.0</td>\n      <td>38.190</td>\n      <td>2</td>\n    </tr>\n    <tr>\n      <th>12990</th>\n      <td>Talaghattapura</td>\n      <td>1804 - 2273</td>\n      <td>3.0</td>\n      <td>0.0</td>\n      <td>122.000</td>\n      <td>3</td>\n    </tr>\n    <tr>\n      <th>13059</th>\n      <td>Harlur</td>\n      <td>1200 - 1470</td>\n      <td>2.0</td>\n      <td>0.0</td>\n      <td>72.760</td>\n      <td>2</td>\n    </tr>\n    <tr>\n      <th>13265</th>\n      <td>Hoodi</td>\n      <td>1133 - 1384</td>\n      <td>2.0</td>\n      <td>0.0</td>\n      <td>59.135</td>\n      <td>2</td>\n    </tr>\n    <tr>\n      <th>13299</th>\n      <td>Whitefield</td>\n      <td>2830 - 2882</td>\n      <td>5.0</td>\n      <td>0.0</td>\n      <td>154.500</td>\n      <td>4</td>\n    </tr>\n  </tbody>\n</table>\n<p>190 rows × 6 columns</p>\n</div>"
          },
          "metadata": {}
        }
      ],
      "execution_count": 45,
      "metadata": {
        "jupyter": {
          "source_hidden": false,
          "outputs_hidden": false
        },
        "nteract": {
          "transient": {
            "deleting": false
          }
        },
        "gather": {
          "logged": 1715757642707
        }
      }
    },
    {
      "cell_type": "code",
      "source": [
        "def convert_sqft_to_num(x):\n",
        "    tokens = x.split('-')\n",
        "    if len(tokens) == 2:\n",
        "        return (float(tokens[0])+float(tokens[1]))/2\n",
        "    try:\n",
        "        return float(x)\n",
        "    except:\n",
        "        return None\n",
        "\n",
        "bangalorepricedf4  = bangalorepricedf3.copy()\n",
        "bangalorepricedf4['total_sqft'] = bangalorepricedf4['total_sqft'].apply(convert_sqft_to_num)\n",
        "bangalorepricedf4.head()"
      ],
      "outputs": [
        {
          "output_type": "execute_result",
          "execution_count": 46,
          "data": {
            "text/plain": "                   location  total_sqft  bath  balcony   price  bhk\n0  Electronic City Phase II      1056.0   2.0      1.0   39.07    2\n1          Chikka Tirupathi      2600.0   5.0      3.0  120.00    4\n2               Uttarahalli      1440.0   2.0      3.0   62.00    3\n3        Lingadheeranahalli      1521.0   3.0      1.0   95.00    3\n4                  Kothanur      1200.0   2.0      1.0   51.00    2",
            "text/html": "<div>\n<style scoped>\n    .dataframe tbody tr th:only-of-type {\n        vertical-align: middle;\n    }\n\n    .dataframe tbody tr th {\n        vertical-align: top;\n    }\n\n    .dataframe thead th {\n        text-align: right;\n    }\n</style>\n<table border=\"1\" class=\"dataframe\">\n  <thead>\n    <tr style=\"text-align: right;\">\n      <th></th>\n      <th>location</th>\n      <th>total_sqft</th>\n      <th>bath</th>\n      <th>balcony</th>\n      <th>price</th>\n      <th>bhk</th>\n    </tr>\n  </thead>\n  <tbody>\n    <tr>\n      <th>0</th>\n      <td>Electronic City Phase II</td>\n      <td>1056.0</td>\n      <td>2.0</td>\n      <td>1.0</td>\n      <td>39.07</td>\n      <td>2</td>\n    </tr>\n    <tr>\n      <th>1</th>\n      <td>Chikka Tirupathi</td>\n      <td>2600.0</td>\n      <td>5.0</td>\n      <td>3.0</td>\n      <td>120.00</td>\n      <td>4</td>\n    </tr>\n    <tr>\n      <th>2</th>\n      <td>Uttarahalli</td>\n      <td>1440.0</td>\n      <td>2.0</td>\n      <td>3.0</td>\n      <td>62.00</td>\n      <td>3</td>\n    </tr>\n    <tr>\n      <th>3</th>\n      <td>Lingadheeranahalli</td>\n      <td>1521.0</td>\n      <td>3.0</td>\n      <td>1.0</td>\n      <td>95.00</td>\n      <td>3</td>\n    </tr>\n    <tr>\n      <th>4</th>\n      <td>Kothanur</td>\n      <td>1200.0</td>\n      <td>2.0</td>\n      <td>1.0</td>\n      <td>51.00</td>\n      <td>2</td>\n    </tr>\n  </tbody>\n</table>\n</div>"
          },
          "metadata": {}
        }
      ],
      "execution_count": 46,
      "metadata": {
        "jupyter": {
          "source_hidden": false,
          "outputs_hidden": false
        },
        "nteract": {
          "transient": {
            "deleting": false
          }
        },
        "gather": {
          "logged": 1715757748332
        }
      }
    },
    {
      "cell_type": "code",
      "source": [
        "bangalorepricedf4[~bangalorepricedf4['total_sqft'].apply(is_float)]"
      ],
      "outputs": [
        {
          "output_type": "execute_result",
          "execution_count": 55,
          "data": {
            "text/plain": "Empty DataFrame\nColumns: [location, total_sqft, bath, balcony, price, bhk]\nIndex: []",
            "text/html": "<div>\n<style scoped>\n    .dataframe tbody tr th:only-of-type {\n        vertical-align: middle;\n    }\n\n    .dataframe tbody tr th {\n        vertical-align: top;\n    }\n\n    .dataframe thead th {\n        text-align: right;\n    }\n</style>\n<table border=\"1\" class=\"dataframe\">\n  <thead>\n    <tr style=\"text-align: right;\">\n      <th></th>\n      <th>location</th>\n      <th>total_sqft</th>\n      <th>bath</th>\n      <th>balcony</th>\n      <th>price</th>\n      <th>bhk</th>\n    </tr>\n  </thead>\n  <tbody>\n  </tbody>\n</table>\n</div>"
          },
          "metadata": {}
        }
      ],
      "execution_count": 55,
      "metadata": {
        "jupyter": {
          "source_hidden": false,
          "outputs_hidden": false
        },
        "nteract": {
          "transient": {
            "deleting": false
          }
        },
        "gather": {
          "logged": 1715758746629
        }
      }
    },
    {
      "cell_type": "code",
      "source": [
        "#Assuming price is in Lakhs, create additional column price per sq ft \n",
        "\n",
        "bangalorepricedf4['price_per_sqft']  = bangalorepricedf4['price']*100000/bangalorepricedf4['total_sqft']\n",
        "bangalorepricedf4.head()"
      ],
      "outputs": [
        {
          "output_type": "execute_result",
          "execution_count": 68,
          "data": {
            "text/plain": "                   location  total_sqft  bath  balcony   price  bhk  \\\n0  Electronic City Phase II      1056.0   2.0      1.0   39.07    2   \n1          Chikka Tirupathi      2600.0   5.0      3.0  120.00    4   \n2               Uttarahalli      1440.0   2.0      3.0   62.00    3   \n3        Lingadheeranahalli      1521.0   3.0      1.0   95.00    3   \n4                  Kothanur      1200.0   2.0      1.0   51.00    2   \n\n   price_per_sqft  \n0     3699.810606  \n1     4615.384615  \n2     4305.555556  \n3     6245.890861  \n4     4250.000000  ",
            "text/html": "<div>\n<style scoped>\n    .dataframe tbody tr th:only-of-type {\n        vertical-align: middle;\n    }\n\n    .dataframe tbody tr th {\n        vertical-align: top;\n    }\n\n    .dataframe thead th {\n        text-align: right;\n    }\n</style>\n<table border=\"1\" class=\"dataframe\">\n  <thead>\n    <tr style=\"text-align: right;\">\n      <th></th>\n      <th>location</th>\n      <th>total_sqft</th>\n      <th>bath</th>\n      <th>balcony</th>\n      <th>price</th>\n      <th>bhk</th>\n      <th>price_per_sqft</th>\n    </tr>\n  </thead>\n  <tbody>\n    <tr>\n      <th>0</th>\n      <td>Electronic City Phase II</td>\n      <td>1056.0</td>\n      <td>2.0</td>\n      <td>1.0</td>\n      <td>39.07</td>\n      <td>2</td>\n      <td>3699.810606</td>\n    </tr>\n    <tr>\n      <th>1</th>\n      <td>Chikka Tirupathi</td>\n      <td>2600.0</td>\n      <td>5.0</td>\n      <td>3.0</td>\n      <td>120.00</td>\n      <td>4</td>\n      <td>4615.384615</td>\n    </tr>\n    <tr>\n      <th>2</th>\n      <td>Uttarahalli</td>\n      <td>1440.0</td>\n      <td>2.0</td>\n      <td>3.0</td>\n      <td>62.00</td>\n      <td>3</td>\n      <td>4305.555556</td>\n    </tr>\n    <tr>\n      <th>3</th>\n      <td>Lingadheeranahalli</td>\n      <td>1521.0</td>\n      <td>3.0</td>\n      <td>1.0</td>\n      <td>95.00</td>\n      <td>3</td>\n      <td>6245.890861</td>\n    </tr>\n    <tr>\n      <th>4</th>\n      <td>Kothanur</td>\n      <td>1200.0</td>\n      <td>2.0</td>\n      <td>1.0</td>\n      <td>51.00</td>\n      <td>2</td>\n      <td>4250.000000</td>\n    </tr>\n  </tbody>\n</table>\n</div>"
          },
          "metadata": {}
        }
      ],
      "execution_count": 68,
      "metadata": {
        "jupyter": {
          "source_hidden": false,
          "outputs_hidden": false
        },
        "nteract": {
          "transient": {
            "deleting": false
          }
        },
        "gather": {
          "logged": 1715761762582
        }
      }
    },
    {
      "cell_type": "code",
      "source": [
        "len(bangalorepricedf4['location'].unique())"
      ],
      "outputs": [
        {
          "output_type": "execute_result",
          "execution_count": 69,
          "data": {
            "text/plain": "1304"
          },
          "metadata": {}
        }
      ],
      "execution_count": 69,
      "metadata": {
        "jupyter": {
          "source_hidden": false,
          "outputs_hidden": false
        },
        "nteract": {
          "transient": {
            "deleting": false
          }
        },
        "gather": {
          "logged": 1715761765642
        }
      }
    },
    {
      "cell_type": "code",
      "source": [
        "#Identify the spread of data across multiple locations\n",
        "bangalorepricedf5 = bangalorepricedf4.copy()\n",
        "\n",
        "bangalorepricedf5.location = bangalorepricedf5.location.apply(lambda x: x.strip())\n",
        "location_stats = bangalorepricedf5.groupby('location')['location'].agg('count').sort_values(ascending=False)\n",
        "location_stats"
      ],
      "outputs": [
        {
          "output_type": "execute_result",
          "execution_count": 70,
          "data": {
            "text/plain": "location\nWhitefield           535\nSarjapur  Road       392\nElectronic City      304\nKanakpura Road       266\nThanisandra          236\n                    ... \nLIC Colony             1\nKuvempu Layout         1\nKumbhena Agrahara      1\nKudlu Village,         1\n1 Annasandrapalya      1\nName: location, Length: 1293, dtype: int64"
          },
          "metadata": {}
        }
      ],
      "execution_count": 70,
      "metadata": {
        "jupyter": {
          "source_hidden": false,
          "outputs_hidden": false
        },
        "nteract": {
          "transient": {
            "deleting": false
          }
        },
        "gather": {
          "logged": 1715761793262
        }
      }
    },
    {
      "cell_type": "code",
      "source": [
        "##Identify all the locations which has less than 10 entries in the list and classify it as others\n",
        "\n",
        "location_stats_less_than_25 = location_stats[location_stats<=25]\n",
        "location_stats_less_than_25\n"
      ],
      "outputs": [
        {
          "output_type": "execute_result",
          "execution_count": 71,
          "data": {
            "text/plain": "location\nMagadi Road          25\nKogilu               25\nBabusapalaya         25\nIblur Village        25\nSeegehalli           25\n                     ..\nLIC Colony            1\nKuvempu Layout        1\nKumbhena Agrahara     1\nKudlu Village,        1\n1 Annasandrapalya     1\nName: location, Length: 1176, dtype: int64"
          },
          "metadata": {}
        }
      ],
      "execution_count": 71,
      "metadata": {
        "jupyter": {
          "source_hidden": false,
          "outputs_hidden": false
        },
        "nteract": {
          "transient": {
            "deleting": false
          }
        },
        "gather": {
          "logged": 1715761802873
        }
      }
    },
    {
      "cell_type": "code",
      "source": [
        "bangalorepricedf5.location = bangalorepricedf5.location.apply(lambda x: 'Other' if x in location_stats_less_than_25 else x)\n",
        "print(len(bangalorepricedf5.location.unique()))\n",
        "bangalorepricedf5.head()"
      ],
      "outputs": [
        {
          "output_type": "stream",
          "name": "stdout",
          "text": "118\n"
        },
        {
          "output_type": "execute_result",
          "execution_count": 76,
          "data": {
            "text/plain": "                   location  total_sqft  bath  balcony   price  bhk  \\\n0  Electronic City Phase II      1056.0   2.0      1.0   39.07    2   \n1                     other      2600.0   5.0      3.0  120.00    4   \n2               Uttarahalli      1440.0   2.0      3.0   62.00    3   \n3                     other      1521.0   3.0      1.0   95.00    3   \n4                  Kothanur      1200.0   2.0      1.0   51.00    2   \n\n   price_per_sqft  \n0     3699.810606  \n1     4615.384615  \n2     4305.555556  \n3     6245.890861  \n4     4250.000000  ",
            "text/html": "<div>\n<style scoped>\n    .dataframe tbody tr th:only-of-type {\n        vertical-align: middle;\n    }\n\n    .dataframe tbody tr th {\n        vertical-align: top;\n    }\n\n    .dataframe thead th {\n        text-align: right;\n    }\n</style>\n<table border=\"1\" class=\"dataframe\">\n  <thead>\n    <tr style=\"text-align: right;\">\n      <th></th>\n      <th>location</th>\n      <th>total_sqft</th>\n      <th>bath</th>\n      <th>balcony</th>\n      <th>price</th>\n      <th>bhk</th>\n      <th>price_per_sqft</th>\n    </tr>\n  </thead>\n  <tbody>\n    <tr>\n      <th>0</th>\n      <td>Electronic City Phase II</td>\n      <td>1056.0</td>\n      <td>2.0</td>\n      <td>1.0</td>\n      <td>39.07</td>\n      <td>2</td>\n      <td>3699.810606</td>\n    </tr>\n    <tr>\n      <th>1</th>\n      <td>other</td>\n      <td>2600.0</td>\n      <td>5.0</td>\n      <td>3.0</td>\n      <td>120.00</td>\n      <td>4</td>\n      <td>4615.384615</td>\n    </tr>\n    <tr>\n      <th>2</th>\n      <td>Uttarahalli</td>\n      <td>1440.0</td>\n      <td>2.0</td>\n      <td>3.0</td>\n      <td>62.00</td>\n      <td>3</td>\n      <td>4305.555556</td>\n    </tr>\n    <tr>\n      <th>3</th>\n      <td>other</td>\n      <td>1521.0</td>\n      <td>3.0</td>\n      <td>1.0</td>\n      <td>95.00</td>\n      <td>3</td>\n      <td>6245.890861</td>\n    </tr>\n    <tr>\n      <th>4</th>\n      <td>Kothanur</td>\n      <td>1200.0</td>\n      <td>2.0</td>\n      <td>1.0</td>\n      <td>51.00</td>\n      <td>2</td>\n      <td>4250.000000</td>\n    </tr>\n  </tbody>\n</table>\n</div>"
          },
          "metadata": {}
        }
      ],
      "execution_count": 76,
      "metadata": {
        "jupyter": {
          "source_hidden": false,
          "outputs_hidden": false
        },
        "nteract": {
          "transient": {
            "deleting": false
          }
        },
        "gather": {
          "logged": 1715762011017
        }
      }
    },
    {
      "cell_type": "code",
      "source": [
        "bangalorepricedf6.price_per_sqft.describe()"
      ],
      "outputs": [
        {
          "output_type": "execute_result",
          "execution_count": 131,
          "data": {
            "text/plain": "count     12456.000000\nmean       6308.502826\nstd        4168.127339\nmin         267.829813\n25%        4210.526316\n50%        5294.117647\n75%        6916.666667\nmax      176470.588235\nName: price_per_sqft, dtype: float64"
          },
          "metadata": {}
        }
      ],
      "execution_count": 131,
      "metadata": {
        "jupyter": {
          "source_hidden": false,
          "outputs_hidden": false
        },
        "nteract": {
          "transient": {
            "deleting": false
          }
        },
        "gather": {
          "logged": 1715766322806
        }
      }
    },
    {
      "cell_type": "code",
      "source": [
        "def plot_scatter_chart(df,location):\n",
        "    bhk2 = df[(df.location==location) & (df.bhk == 2)]\n",
        "    bhk3 = df[(bangalorepricedf6.location==location) & (df.bhk == 3)]\n",
        "    matplotlib.rcParams['figure.figsize'] = (15,10)\n",
        "    plt.scatter(bhk2.total_sqft,bhk2.price, color ='blue', label ='2 BHK', s = 50)\n",
        "    plt.scatter (bhk3.total_sqft,bhk3.price, marker= '+', label = '3 BHK' , s = 50)\n",
        "    plt.xlabel('Total Square Feet Area')\n",
        "    plt.ylabel('Price Per Square Feet')\n",
        "    plt.title('Location')\n",
        "    plt.legend()\n",
        "\n",
        "    \n",
        "plot_scatter_chart(bangalorepricedf6, 'Rajaji Nagar')"
      ],
      "outputs": [
        {
          "output_type": "display_data",
          "data": {
            "text/plain": "<Figure size 1500x1000 with 1 Axes>",
            "image/png": "[encoded data removed]"
          },
          "metadata": {}
        }
      ],
      "execution_count": 134,
      "metadata": {
        "jupyter": {
          "source_hidden": false,
          "outputs_hidden": false
        },
        "nteract": {
          "transient": {
            "deleting": false
          }
        },
        "gather": {
          "logged": 1715766511755
        }
      }
    },
    {
      "cell_type": "code",
      "source": [
        "import matplotlib.pyplot as plt\n",
        "import seaborn as sns\n",
        "import numpy as np\n",
        "\n",
        "def plot_scatter_chart(df, location, sample_size=1000):\n",
        "    bhk2 = df[(df.location==location) & (df.bhk == 2)]\n",
        "    bhk3 = df[(df.location==location) & (df.bhk == 3)]\n",
        "    \n",
        "    # Filter out extreme outliers\n",
        "    bhk2_filtered = bhk2[bhk2.price <= np.percentile(bhk2.price, 99)]  # Filter out top 1% of prices\n",
        "    bhk3_filtered = bhk3[bhk3.price <= np.percentile(bhk3.price, 99)]  # Filter out top 1% of prices\n",
        "    \n",
        "    # Sample data to reduce the number of data points\n",
        "    bhk2_sample = bhk2_filtered.sample(n=min(sample_size, len(bhk2_filtered)))  # Added random_state for reproducibility\n",
        "    bhk3_sample = bhk3_filtered.sample(n=min(sample_size, len(bhk3_filtered)))  # Added random_state for reproducibility\n",
        "    \n",
        "    # Set background color\n",
        "    plt.figure(figsize=(20, 10))  # Reduced figure size\n",
        "    \n",
        "    # Scatter plots for 2 BHK and 3 BHK with reduced marker size\n",
        "    plt.scatter(bhk2_sample.total_sqft, bhk2_sample.price, color='blue', label='2 BHK', s=10)  # Reduced marker size\n",
        "    plt.scatter(bhk3_sample.total_sqft, bhk3_sample.price, marker='+', label='3 BHK', s=10)  # Reduced marker size\n",
        "    \n",
        "    # Trend lines\n",
        "    sns.regplot(x=bhk2_sample.total_sqft, y=bhk2_sample.price, scatter=False, color='blue')\n",
        "\n",
        "    sns.regplot(x=bhk3_sample.total_sqft, y=bhk3_sample.price, scatter=False, color='orange')\n",
        "    \n",
        "    # Annotations for median prices with reduced font size\n",
        "    plt.annotate('Median of 2 BHK', xy=(np.median(bhk2_sample.total_sqft), np.median(bhk2_sample.price)), xytext=(np.median(bhk2_sample.total_sqft)+5, np.median(bhk2_sample.price)+50),\n",
        "                 arrowprops=dict(facecolor='blue', shrink=0.01), fontsize=8)  # Reduced font size\n",
        "    plt.annotate('Median of 3 BHK', xy=(np.median(bhk3_sample.total_sqft), np.median(bhk3_sample.price)), xytext=(np.median(bhk3_sample.total_sqft)+5, np.median(bhk3_sample.price)-50),\n",
        "                 arrowprops=dict(facecolor='orange', shrink=0.01), fontsize=8)  # Reduced font size\n",
        "    \n",
        "    # plt.xlim(500,1500) \n",
        "    # plt.ylim(2,10)\n",
        "    plt.xlabel('Total Square Feet Area')\n",
        "    plt.ylabel('Price Per Square Feet')\n",
        "    plt.title('Price vs Total Square Feet Area in {}'.format(location))\n",
        "    plt.legend()\n",
        "    plt.grid(False)\n",
        "    plt.gca().set_facecolor('#f2f2f2')  # Set background color\n",
        "    # plt.yscale('log')\n",
        "    plt.show()\n",
        "    plt.savefig('plot1.png')\n",
        "    \n",
        "    \n",
        "    \n",
        "    \n",
        "# Example usage with reduced sample size\n",
        "plot_scatter_chart(bangalorepricedf6, 'Hebbal', sample_size=1000)"
      ],
      "outputs": [
        {
          "output_type": "display_data",
          "data": {
            "text/plain": "<Figure size 2000x1000 with 1 Axes>",
            "image/png": "[encoded data removed]"
          },
          "metadata": {}
        },
        {
          "output_type": "display_data",
          "data": {
            "text/plain": "<Figure size 1500x1000 with 0 Axes>"
          },
          "metadata": {}
        }
      ],
      "execution_count": 133,
      "metadata": {
        "jupyter": {
          "source_hidden": false,
          "outputs_hidden": false
        },
        "nteract": {
          "transient": {
            "deleting": false
          }
        },
        "gather": {
          "logged": 1715766473169
        }
      }
    },
    {
      "cell_type": "code",
      "source": [
        "## Location need to be seggregated into dummy columns to ensure the unque values for location is split across as multiple correlated values across columns\n",
        "dumies = pd.get_dummies(bangalorepricedf6.location)\n",
        "dumies.head(3)"
      ],
      "outputs": [
        {
          "output_type": "execute_result",
          "execution_count": 79,
          "data": {
            "text/plain": "   5th Phase JP Nagar  7th Phase JP Nagar  8th Phase JP Nagar  \\\n0                   0                   0                   0   \n1                   0                   0                   0   \n2                   0                   0                   0   \n\n   9th Phase JP Nagar  Akshaya Nagar  Ambalipura  Ambedkar Nagar  Anandapura  \\\n0                   0              0           0               0           0   \n1                   0              0           0               0           0   \n2                   0              0           0               0           0   \n\n   Ananth Nagar  Anekal  ...  Uttarahalli  Varthur  Vidyaranyapura  \\\n0             0       0  ...            0        0               0   \n1             0       0  ...            0        0               0   \n2             0       0  ...            1        0               0   \n\n   Vijayanagar  Vittasandra  Whitefield  Yelahanka  Yelahanka New Town  \\\n0            0            0           0          0                   0   \n1            0            0           0          0                   0   \n2            0            0           0          0                   0   \n\n   Yeshwanthpur  other  \n0             0      0  \n1             0      1  \n2             0      0  \n\n[3 rows x 118 columns]",
            "text/html": "<div>\n<style scoped>\n    .dataframe tbody tr th:only-of-type {\n        vertical-align: middle;\n    }\n\n    .dataframe tbody tr th {\n        vertical-align: top;\n    }\n\n    .dataframe thead th {\n        text-align: right;\n    }\n</style>\n<table border=\"1\" class=\"dataframe\">\n  <thead>\n    <tr style=\"text-align: right;\">\n      <th></th>\n      <th>5th Phase JP Nagar</th>\n      <th>7th Phase JP Nagar</th>\n      <th>8th Phase JP Nagar</th>\n      <th>9th Phase JP Nagar</th>\n      <th>Akshaya Nagar</th>\n      <th>Ambalipura</th>\n      <th>Ambedkar Nagar</th>\n      <th>Anandapura</th>\n      <th>Ananth Nagar</th>\n      <th>Anekal</th>\n      <th>...</th>\n      <th>Uttarahalli</th>\n      <th>Varthur</th>\n      <th>Vidyaranyapura</th>\n      <th>Vijayanagar</th>\n      <th>Vittasandra</th>\n      <th>Whitefield</th>\n      <th>Yelahanka</th>\n      <th>Yelahanka New Town</th>\n      <th>Yeshwanthpur</th>\n      <th>other</th>\n    </tr>\n  </thead>\n  <tbody>\n    <tr>\n      <th>0</th>\n      <td>0</td>\n      <td>0</td>\n      <td>0</td>\n      <td>0</td>\n      <td>0</td>\n      <td>0</td>\n      <td>0</td>\n      <td>0</td>\n      <td>0</td>\n      <td>0</td>\n      <td>...</td>\n      <td>0</td>\n      <td>0</td>\n      <td>0</td>\n      <td>0</td>\n      <td>0</td>\n      <td>0</td>\n      <td>0</td>\n      <td>0</td>\n      <td>0</td>\n      <td>0</td>\n    </tr>\n    <tr>\n      <th>1</th>\n      <td>0</td>\n      <td>0</td>\n      <td>0</td>\n      <td>0</td>\n      <td>0</td>\n      <td>0</td>\n      <td>0</td>\n      <td>0</td>\n      <td>0</td>\n      <td>0</td>\n      <td>...</td>\n      <td>0</td>\n      <td>0</td>\n      <td>0</td>\n      <td>0</td>\n      <td>0</td>\n      <td>0</td>\n      <td>0</td>\n      <td>0</td>\n      <td>0</td>\n      <td>1</td>\n    </tr>\n    <tr>\n      <th>2</th>\n      <td>0</td>\n      <td>0</td>\n      <td>0</td>\n      <td>0</td>\n      <td>0</td>\n      <td>0</td>\n      <td>0</td>\n      <td>0</td>\n      <td>0</td>\n      <td>0</td>\n      <td>...</td>\n      <td>1</td>\n      <td>0</td>\n      <td>0</td>\n      <td>0</td>\n      <td>0</td>\n      <td>0</td>\n      <td>0</td>\n      <td>0</td>\n      <td>0</td>\n      <td>0</td>\n    </tr>\n  </tbody>\n</table>\n<p>3 rows × 118 columns</p>\n</div>"
          },
          "metadata": {}
        }
      ],
      "execution_count": 79,
      "metadata": {
        "jupyter": {
          "source_hidden": false,
          "outputs_hidden": false
        },
        "nteract": {
          "transient": {
            "deleting": false
          }
        },
        "gather": {
          "logged": 1715762341864
        }
      }
    },
    {
      "cell_type": "code",
      "source": [
        "bangalorepricedf7 = pd.concat([bangalorepricedf6, dumies.drop('other',axis = 'columns')], axis='columns')\n",
        "bangalorepricedf7.head()"
      ],
      "outputs": [
        {
          "output_type": "execute_result",
          "execution_count": 82,
          "data": {
            "text/plain": "                   location  total_sqft  bath  balcony   price  bhk  \\\n0  Electronic City Phase II      1056.0   2.0      1.0   39.07    2   \n1                     other      2600.0   5.0      3.0  120.00    4   \n2               Uttarahalli      1440.0   2.0      3.0   62.00    3   \n3                     other      1521.0   3.0      1.0   95.00    3   \n4                  Kothanur      1200.0   2.0      1.0   51.00    2   \n\n   price_per_sqft  5th Phase JP Nagar  7th Phase JP Nagar  8th Phase JP Nagar  \\\n0     3699.810606                   0                   0                   0   \n1     4615.384615                   0                   0                   0   \n2     4305.555556                   0                   0                   0   \n3     6245.890861                   0                   0                   0   \n4     4250.000000                   0                   0                   0   \n\n   ...  Tumkur Road  Uttarahalli  Varthur  Vidyaranyapura  Vijayanagar  \\\n0  ...            0            0        0               0            0   \n1  ...            0            0        0               0            0   \n2  ...            0            1        0               0            0   \n3  ...            0            0        0               0            0   \n4  ...            0            0        0               0            0   \n\n   Vittasandra  Whitefield  Yelahanka  Yelahanka New Town  Yeshwanthpur  \n0            0           0          0                   0             0  \n1            0           0          0                   0             0  \n2            0           0          0                   0             0  \n3            0           0          0                   0             0  \n4            0           0          0                   0             0  \n\n[5 rows x 124 columns]",
            "text/html": "<div>\n<style scoped>\n    .dataframe tbody tr th:only-of-type {\n        vertical-align: middle;\n    }\n\n    .dataframe tbody tr th {\n        vertical-align: top;\n    }\n\n    .dataframe thead th {\n        text-align: right;\n    }\n</style>\n<table border=\"1\" class=\"dataframe\">\n  <thead>\n    <tr style=\"text-align: right;\">\n      <th></th>\n      <th>location</th>\n      <th>total_sqft</th>\n      <th>bath</th>\n      <th>balcony</th>\n      <th>price</th>\n      <th>bhk</th>\n      <th>price_per_sqft</th>\n      <th>5th Phase JP Nagar</th>\n      <th>7th Phase JP Nagar</th>\n      <th>8th Phase JP Nagar</th>\n      <th>...</th>\n      <th>Tumkur Road</th>\n      <th>Uttarahalli</th>\n      <th>Varthur</th>\n      <th>Vidyaranyapura</th>\n      <th>Vijayanagar</th>\n      <th>Vittasandra</th>\n      <th>Whitefield</th>\n      <th>Yelahanka</th>\n      <th>Yelahanka New Town</th>\n      <th>Yeshwanthpur</th>\n    </tr>\n  </thead>\n  <tbody>\n    <tr>\n      <th>0</th>\n      <td>Electronic City Phase II</td>\n      <td>1056.0</td>\n      <td>2.0</td>\n      <td>1.0</td>\n      <td>39.07</td>\n      <td>2</td>\n      <td>3699.810606</td>\n      <td>0</td>\n      <td>0</td>\n      <td>0</td>\n      <td>...</td>\n      <td>0</td>\n      <td>0</td>\n      <td>0</td>\n      <td>0</td>\n      <td>0</td>\n      <td>0</td>\n      <td>0</td>\n      <td>0</td>\n      <td>0</td>\n      <td>0</td>\n    </tr>\n    <tr>\n      <th>1</th>\n      <td>other</td>\n      <td>2600.0</td>\n      <td>5.0</td>\n      <td>3.0</td>\n      <td>120.00</td>\n      <td>4</td>\n      <td>4615.384615</td>\n      <td>0</td>\n      <td>0</td>\n      <td>0</td>\n      <td>...</td>\n      <td>0</td>\n      <td>0</td>\n      <td>0</td>\n      <td>0</td>\n      <td>0</td>\n      <td>0</td>\n      <td>0</td>\n      <td>0</td>\n      <td>0</td>\n      <td>0</td>\n    </tr>\n    <tr>\n      <th>2</th>\n      <td>Uttarahalli</td>\n      <td>1440.0</td>\n      <td>2.0</td>\n      <td>3.0</td>\n      <td>62.00</td>\n      <td>3</td>\n      <td>4305.555556</td>\n      <td>0</td>\n      <td>0</td>\n      <td>0</td>\n      <td>...</td>\n      <td>0</td>\n      <td>1</td>\n      <td>0</td>\n      <td>0</td>\n      <td>0</td>\n      <td>0</td>\n      <td>0</td>\n      <td>0</td>\n      <td>0</td>\n      <td>0</td>\n    </tr>\n    <tr>\n      <th>3</th>\n      <td>other</td>\n      <td>1521.0</td>\n      <td>3.0</td>\n      <td>1.0</td>\n      <td>95.00</td>\n      <td>3</td>\n      <td>6245.890861</td>\n      <td>0</td>\n      <td>0</td>\n      <td>0</td>\n      <td>...</td>\n      <td>0</td>\n      <td>0</td>\n      <td>0</td>\n      <td>0</td>\n      <td>0</td>\n      <td>0</td>\n      <td>0</td>\n      <td>0</td>\n      <td>0</td>\n      <td>0</td>\n    </tr>\n    <tr>\n      <th>4</th>\n      <td>Kothanur</td>\n      <td>1200.0</td>\n      <td>2.0</td>\n      <td>1.0</td>\n      <td>51.00</td>\n      <td>2</td>\n      <td>4250.000000</td>\n      <td>0</td>\n      <td>0</td>\n      <td>0</td>\n      <td>...</td>\n      <td>0</td>\n      <td>0</td>\n      <td>0</td>\n      <td>0</td>\n      <td>0</td>\n      <td>0</td>\n      <td>0</td>\n      <td>0</td>\n      <td>0</td>\n      <td>0</td>\n    </tr>\n  </tbody>\n</table>\n<p>5 rows × 124 columns</p>\n</div>"
          },
          "metadata": {}
        }
      ],
      "execution_count": 82,
      "metadata": {
        "jupyter": {
          "source_hidden": false,
          "outputs_hidden": false
        },
        "nteract": {
          "transient": {
            "deleting": false
          }
        },
        "gather": {
          "logged": 1715762455654
        }
      }
    },
    {
      "cell_type": "code",
      "source": [
        "#Delete the location column as dummy values are added to the data frame\n",
        "bangalorepricedf8 = bangalorepricedf7.drop('location', axis='columns')\n",
        "bangalorepricedf8 = bangalorepricedf8.dropna()\n",
        "bangalorepricedf8.head()"
      ],
      "outputs": [
        {
          "output_type": "execute_result",
          "execution_count": 89,
          "data": {
            "text/plain": "   total_sqft  bath  balcony   price  bhk  price_per_sqft  5th Phase JP Nagar  \\\n0      1056.0   2.0      1.0   39.07    2     3699.810606                   0   \n1      2600.0   5.0      3.0  120.00    4     4615.384615                   0   \n2      1440.0   2.0      3.0   62.00    3     4305.555556                   0   \n3      1521.0   3.0      1.0   95.00    3     6245.890861                   0   \n4      1200.0   2.0      1.0   51.00    2     4250.000000                   0   \n\n   7th Phase JP Nagar  8th Phase JP Nagar  9th Phase JP Nagar  ...  \\\n0                   0                   0                   0  ...   \n1                   0                   0                   0  ...   \n2                   0                   0                   0  ...   \n3                   0                   0                   0  ...   \n4                   0                   0                   0  ...   \n\n   Tumkur Road  Uttarahalli  Varthur  Vidyaranyapura  Vijayanagar  \\\n0            0            0        0               0            0   \n1            0            0        0               0            0   \n2            0            1        0               0            0   \n3            0            0        0               0            0   \n4            0            0        0               0            0   \n\n   Vittasandra  Whitefield  Yelahanka  Yelahanka New Town  Yeshwanthpur  \n0            0           0          0                   0             0  \n1            0           0          0                   0             0  \n2            0           0          0                   0             0  \n3            0           0          0                   0             0  \n4            0           0          0                   0             0  \n\n[5 rows x 123 columns]",
            "text/html": "<div>\n<style scoped>\n    .dataframe tbody tr th:only-of-type {\n        vertical-align: middle;\n    }\n\n    .dataframe tbody tr th {\n        vertical-align: top;\n    }\n\n    .dataframe thead th {\n        text-align: right;\n    }\n</style>\n<table border=\"1\" class=\"dataframe\">\n  <thead>\n    <tr style=\"text-align: right;\">\n      <th></th>\n      <th>total_sqft</th>\n      <th>bath</th>\n      <th>balcony</th>\n      <th>price</th>\n      <th>bhk</th>\n      <th>price_per_sqft</th>\n      <th>5th Phase JP Nagar</th>\n      <th>7th Phase JP Nagar</th>\n      <th>8th Phase JP Nagar</th>\n      <th>9th Phase JP Nagar</th>\n      <th>...</th>\n      <th>Tumkur Road</th>\n      <th>Uttarahalli</th>\n      <th>Varthur</th>\n      <th>Vidyaranyapura</th>\n      <th>Vijayanagar</th>\n      <th>Vittasandra</th>\n      <th>Whitefield</th>\n      <th>Yelahanka</th>\n      <th>Yelahanka New Town</th>\n      <th>Yeshwanthpur</th>\n    </tr>\n  </thead>\n  <tbody>\n    <tr>\n      <th>0</th>\n      <td>1056.0</td>\n      <td>2.0</td>\n      <td>1.0</td>\n      <td>39.07</td>\n      <td>2</td>\n      <td>3699.810606</td>\n      <td>0</td>\n      <td>0</td>\n      <td>0</td>\n      <td>0</td>\n      <td>...</td>\n      <td>0</td>\n      <td>0</td>\n      <td>0</td>\n      <td>0</td>\n      <td>0</td>\n      <td>0</td>\n      <td>0</td>\n      <td>0</td>\n      <td>0</td>\n      <td>0</td>\n    </tr>\n    <tr>\n      <th>1</th>\n      <td>2600.0</td>\n      <td>5.0</td>\n      <td>3.0</td>\n      <td>120.00</td>\n      <td>4</td>\n      <td>4615.384615</td>\n      <td>0</td>\n      <td>0</td>\n      <td>0</td>\n      <td>0</td>\n      <td>...</td>\n      <td>0</td>\n      <td>0</td>\n      <td>0</td>\n      <td>0</td>\n      <td>0</td>\n      <td>0</td>\n      <td>0</td>\n      <td>0</td>\n      <td>0</td>\n      <td>0</td>\n    </tr>\n    <tr>\n      <th>2</th>\n      <td>1440.0</td>\n      <td>2.0</td>\n      <td>3.0</td>\n      <td>62.00</td>\n      <td>3</td>\n      <td>4305.555556</td>\n      <td>0</td>\n      <td>0</td>\n      <td>0</td>\n      <td>0</td>\n      <td>...</td>\n      <td>0</td>\n      <td>1</td>\n      <td>0</td>\n      <td>0</td>\n      <td>0</td>\n      <td>0</td>\n      <td>0</td>\n      <td>0</td>\n      <td>0</td>\n      <td>0</td>\n    </tr>\n    <tr>\n      <th>3</th>\n      <td>1521.0</td>\n      <td>3.0</td>\n      <td>1.0</td>\n      <td>95.00</td>\n      <td>3</td>\n      <td>6245.890861</td>\n      <td>0</td>\n      <td>0</td>\n      <td>0</td>\n      <td>0</td>\n      <td>...</td>\n      <td>0</td>\n      <td>0</td>\n      <td>0</td>\n      <td>0</td>\n      <td>0</td>\n      <td>0</td>\n      <td>0</td>\n      <td>0</td>\n      <td>0</td>\n      <td>0</td>\n    </tr>\n    <tr>\n      <th>4</th>\n      <td>1200.0</td>\n      <td>2.0</td>\n      <td>1.0</td>\n      <td>51.00</td>\n      <td>2</td>\n      <td>4250.000000</td>\n      <td>0</td>\n      <td>0</td>\n      <td>0</td>\n      <td>0</td>\n      <td>...</td>\n      <td>0</td>\n      <td>0</td>\n      <td>0</td>\n      <td>0</td>\n      <td>0</td>\n      <td>0</td>\n      <td>0</td>\n      <td>0</td>\n      <td>0</td>\n      <td>0</td>\n    </tr>\n  </tbody>\n</table>\n<p>5 rows × 123 columns</p>\n</div>"
          },
          "metadata": {}
        }
      ],
      "execution_count": 89,
      "metadata": {
        "jupyter": {
          "source_hidden": false,
          "outputs_hidden": false
        },
        "nteract": {
          "transient": {
            "deleting": false
          }
        },
        "gather": {
          "logged": 1715763009807
        }
      }
    },
    {
      "cell_type": "code",
      "source": [
        "#Define Dependent and independent variables\n",
        "\n",
        "x = bangalorepricedf8.drop('price', axis='columns')\n",
        "x.head()"
      ],
      "outputs": [
        {
          "output_type": "execute_result",
          "execution_count": 103,
          "data": {
            "text/plain": "   total_sqft  bath  balcony  bhk  price_per_sqft  5th Phase JP Nagar  \\\n0      1056.0   2.0      1.0    2     3699.810606                   0   \n1      2600.0   5.0      3.0    4     4615.384615                   0   \n2      1440.0   2.0      3.0    3     4305.555556                   0   \n3      1521.0   3.0      1.0    3     6245.890861                   0   \n4      1200.0   2.0      1.0    2     4250.000000                   0   \n\n   7th Phase JP Nagar  8th Phase JP Nagar  9th Phase JP Nagar  Akshaya Nagar  \\\n0                   0                   0                   0              0   \n1                   0                   0                   0              0   \n2                   0                   0                   0              0   \n3                   0                   0                   0              0   \n4                   0                   0                   0              0   \n\n   ...  Tumkur Road  Uttarahalli  Varthur  Vidyaranyapura  Vijayanagar  \\\n0  ...            0            0        0               0            0   \n1  ...            0            0        0               0            0   \n2  ...            0            1        0               0            0   \n3  ...            0            0        0               0            0   \n4  ...            0            0        0               0            0   \n\n   Vittasandra  Whitefield  Yelahanka  Yelahanka New Town  Yeshwanthpur  \n0            0           0          0                   0             0  \n1            0           0          0                   0             0  \n2            0           0          0                   0             0  \n3            0           0          0                   0             0  \n4            0           0          0                   0             0  \n\n[5 rows x 122 columns]",
            "text/html": "<div>\n<style scoped>\n    .dataframe tbody tr th:only-of-type {\n        vertical-align: middle;\n    }\n\n    .dataframe tbody tr th {\n        vertical-align: top;\n    }\n\n    .dataframe thead th {\n        text-align: right;\n    }\n</style>\n<table border=\"1\" class=\"dataframe\">\n  <thead>\n    <tr style=\"text-align: right;\">\n      <th></th>\n      <th>total_sqft</th>\n      <th>bath</th>\n      <th>balcony</th>\n      <th>bhk</th>\n      <th>price_per_sqft</th>\n      <th>5th Phase JP Nagar</th>\n      <th>7th Phase JP Nagar</th>\n      <th>8th Phase JP Nagar</th>\n      <th>9th Phase JP Nagar</th>\n      <th>Akshaya Nagar</th>\n      <th>...</th>\n      <th>Tumkur Road</th>\n      <th>Uttarahalli</th>\n      <th>Varthur</th>\n      <th>Vidyaranyapura</th>\n      <th>Vijayanagar</th>\n      <th>Vittasandra</th>\n      <th>Whitefield</th>\n      <th>Yelahanka</th>\n      <th>Yelahanka New Town</th>\n      <th>Yeshwanthpur</th>\n    </tr>\n  </thead>\n  <tbody>\n    <tr>\n      <th>0</th>\n      <td>1056.0</td>\n      <td>2.0</td>\n      <td>1.0</td>\n      <td>2</td>\n      <td>3699.810606</td>\n      <td>0</td>\n      <td>0</td>\n      <td>0</td>\n      <td>0</td>\n      <td>0</td>\n      <td>...</td>\n      <td>0</td>\n      <td>0</td>\n      <td>0</td>\n      <td>0</td>\n      <td>0</td>\n      <td>0</td>\n      <td>0</td>\n      <td>0</td>\n      <td>0</td>\n      <td>0</td>\n    </tr>\n    <tr>\n      <th>1</th>\n      <td>2600.0</td>\n      <td>5.0</td>\n      <td>3.0</td>\n      <td>4</td>\n      <td>4615.384615</td>\n      <td>0</td>\n      <td>0</td>\n      <td>0</td>\n      <td>0</td>\n      <td>0</td>\n      <td>...</td>\n      <td>0</td>\n      <td>0</td>\n      <td>0</td>\n      <td>0</td>\n      <td>0</td>\n      <td>0</td>\n      <td>0</td>\n      <td>0</td>\n      <td>0</td>\n      <td>0</td>\n    </tr>\n    <tr>\n      <th>2</th>\n      <td>1440.0</td>\n      <td>2.0</td>\n      <td>3.0</td>\n      <td>3</td>\n      <td>4305.555556</td>\n      <td>0</td>\n      <td>0</td>\n      <td>0</td>\n      <td>0</td>\n      <td>0</td>\n      <td>...</td>\n      <td>0</td>\n      <td>1</td>\n      <td>0</td>\n      <td>0</td>\n      <td>0</td>\n      <td>0</td>\n      <td>0</td>\n      <td>0</td>\n      <td>0</td>\n      <td>0</td>\n    </tr>\n    <tr>\n      <th>3</th>\n      <td>1521.0</td>\n      <td>3.0</td>\n      <td>1.0</td>\n      <td>3</td>\n      <td>6245.890861</td>\n      <td>0</td>\n      <td>0</td>\n      <td>0</td>\n      <td>0</td>\n      <td>0</td>\n      <td>...</td>\n      <td>0</td>\n      <td>0</td>\n      <td>0</td>\n      <td>0</td>\n      <td>0</td>\n      <td>0</td>\n      <td>0</td>\n      <td>0</td>\n      <td>0</td>\n      <td>0</td>\n    </tr>\n    <tr>\n      <th>4</th>\n      <td>1200.0</td>\n      <td>2.0</td>\n      <td>1.0</td>\n      <td>2</td>\n      <td>4250.000000</td>\n      <td>0</td>\n      <td>0</td>\n      <td>0</td>\n      <td>0</td>\n      <td>0</td>\n      <td>...</td>\n      <td>0</td>\n      <td>0</td>\n      <td>0</td>\n      <td>0</td>\n      <td>0</td>\n      <td>0</td>\n      <td>0</td>\n      <td>0</td>\n      <td>0</td>\n      <td>0</td>\n    </tr>\n  </tbody>\n</table>\n<p>5 rows × 122 columns</p>\n</div>"
          },
          "metadata": {}
        }
      ],
      "execution_count": 103,
      "metadata": {
        "jupyter": {
          "source_hidden": false,
          "outputs_hidden": false
        },
        "nteract": {
          "transient": {
            "deleting": false
          }
        },
        "gather": {
          "logged": 1715764561501
        }
      }
    },
    {
      "cell_type": "code",
      "source": [
        "y = bangalorepricedf8.price\n",
        "y.head()"
      ],
      "outputs": [
        {
          "output_type": "execute_result",
          "execution_count": 104,
          "data": {
            "text/plain": "0     39.07\n1    120.00\n2     62.00\n3     95.00\n4     51.00\nName: price, dtype: float64"
          },
          "metadata": {}
        }
      ],
      "execution_count": 104,
      "metadata": {
        "jupyter": {
          "source_hidden": false,
          "outputs_hidden": false
        },
        "nteract": {
          "transient": {
            "deleting": false
          }
        },
        "gather": {
          "logged": 1715764564787
        }
      }
    },
    {
      "cell_type": "code",
      "source": [
        "## Split the data into training and testing\n",
        "from sklearn.model_selection import train_test_split\n",
        "X_train, X_test, y_train, y_test = train_test_split(x,y, test_size=0.25)"
      ],
      "outputs": [],
      "execution_count": 122,
      "metadata": {
        "jupyter": {
          "source_hidden": false,
          "outputs_hidden": false
        },
        "nteract": {
          "transient": {
            "deleting": false
          }
        },
        "gather": {
          "logged": 1715765342654
        }
      }
    },
    {
      "cell_type": "code",
      "source": [
        "from sklearn.linear_model import LinearRegression\n",
        "from sklearn.metrics import mean_absolute_error, mean_squared_error, r2_score \n",
        "\n",
        "lr_model=  LinearRegression()\n",
        "lr_model.fit(X_train, y_train)\n",
        "model_score = lr_model.score(X_test,y_test)\n",
        "y_pred = lr_model.predict(X_test)\n",
        "\n",
        "n = X_test.shape[0]\n",
        "p = X_test.shape[1]\n",
        "\n",
        "# Calculate performance metrics\n",
        "mae = mean_absolute_error(y_test, y_pred)\n",
        "mse = mean_squared_error(y_test, y_pred)\n",
        "rmse = np.sqrt(mse)\n",
        "r2 = r2_score(y_test, y_pred)\n",
        "adjusted_r2 = 1 - (1 - r2) * (n - 1) / (n - p - 1)\n",
        "\n",
        "#print(y_pred)\n",
        "\n",
        "print('R Square Value', r2)\n",
        "print('Adjusted R Square Value', adjusted_r2)\n",
        "print('Mean Absolute Error', mae)\n",
        "print('Root Mean Square Error', rmse)\n",
        "\n",
        "# Display the coefficients\n",
        "print('Coefficients:', lr_model.coef_)\n",
        "print('Intercept:', lr_model.intercept_)\n",
        "\n"
      ],
      "outputs": [
        {
          "output_type": "stream",
          "name": "stdout",
          "text": "R Square Value 0.7509666954940455\nAdjusted R Square Value 0.7408088676272029\nMean Absolute Error 25.519816901836208\nRoot Mean Square Error 64.50690433700923\nCoefficients: [ 4.81810035e-02  2.50994948e+01  2.93454757e-01 -6.07022023e+00\n  2.11845179e-02 -2.37926458e+00 -9.94787577e+00 -1.61152004e+01\n  2.02711144e+00 -6.75852000e+00 -8.70284596e-01 -5.36283700e+00\n  9.92209290e-01  2.95989899e+01  2.11791600e+01  3.04201615e+01\n -1.86255171e+01 -1.59627904e+00 -3.95529829e-01 -1.32181698e+01\n  1.63477750e+00 -2.33769008e+01  8.96839950e+00 -3.90470272e+00\n -1.92401236e+01  2.09702833e+01 -6.75474098e+00  1.27149804e+01\n  1.15995183e+01 -1.56474836e+01 -2.51785444e+00  9.42853556e-01\n  3.48185513e+01  1.31213346e+01  7.91634711e+00 -4.20004063e+00\n  1.22378014e+01  1.62884131e+01  1.42042484e+01  1.21431029e+01\n  1.64932214e+01  8.45759982e+00  6.69882453e+00  9.55699544e+00\n -1.48647980e+01 -3.91912792e+00  1.94494771e+00 -8.46487642e-01\n -1.55473108e+01 -3.60671463e+00 -1.46673526e+01 -2.19642958e+01\n  5.31032489e+00 -7.08823762e+00 -8.31109595e+00  1.17617772e+01\n -2.64715687e+00  5.69861034e+00  2.15053153e+00 -9.99610642e+00\n -2.96246945e+00 -1.93088114e+01 -8.03294552e+00 -1.01630080e+01\n -2.25541173e+00 -8.59098571e+00 -9.96791156e+00  2.34444397e+00\n -1.16160531e+01  5.61511335e+00  3.45718449e+00  2.06460236e+01\n  8.63328525e+00 -2.27298869e+00  3.33168203e+00  1.73300525e+01\n  1.73067216e+01 -2.15496730e+00 -8.09037901e+00  9.57837865e+00\n -9.60788211e+00  7.21735703e+00 -9.46603175e+00 -1.74252139e+01\n -1.27534644e+01 -1.15491961e+01  5.01763318e+00  5.49896958e+01\n -7.31539006e+00  3.35919399e+00  8.90441001e-01 -3.97227358e+01\n -3.69276975e+00 -1.00440514e+01 -1.57042797e+00 -2.57406739e+00\n -2.92329901e+01  4.78738459e+00  1.67173754e+00  4.18466498e+01\n  3.34224089e+01 -5.03678770e+00 -1.40778921e+01  1.17808610e+01\n  1.53519809e+00 -2.95130190e+00 -2.23195162e+00  2.31861850e+00\n  3.96242924e-01  2.52132753e+00 -4.05300828e+00 -2.59761541e+01\n -7.96839950e+00  1.23401902e+01  4.91275978e+00 -2.61549936e-01\n -2.68534020e+01  5.62735475e-01  2.34905714e+00 -1.42235351e+01\n  2.22045587e+01 -1.21465676e+01]\nIntercept: -147.80222805318323\n"
        }
      ],
      "execution_count": 139,
      "metadata": {
        "jupyter": {
          "source_hidden": false,
          "outputs_hidden": false
        },
        "nteract": {
          "transient": {
            "deleting": false
          }
        },
        "gather": {
          "logged": 1715769573577
        }
      }
    },
    {
      "cell_type": "code",
      "source": [
        "# Calculate the multi colliniarity, remove the unwanted variables from the model\n",
        "#Process can be repeated till we have a model with Adjusted R Square value b/w .8 and .9\n",
        "#Calculate the p value for all the independent variables, lowest p values can be eliminated manually to further fine tune the model\n"
      ],
      "outputs": [],
      "execution_count": null,
      "metadata": {
        "jupyter": {
          "source_hidden": false,
          "outputs_hidden": false
        },
        "nteract": {
          "transient": {
            "deleting": false
          }
        }
      }
    },
    {
      "cell_type": "code",
      "source": [
        "# Importing numpy & scikit-learn \n",
        "import numpy as np \n",
        "from sklearn.model_selection import train_test_split\n",
        " \n",
        "x_train, X_test, y_train, y_test = train_test_split(x,y, \n",
        "\t\t\t\t\t\t\t\t\t\t\ttrain_size=0.8, \n",
        "\t\t\t\t\t\t\t\t\t\t\trandom_state=42)\n",
        " \n",
        "# Splitting combined dataset in 50-50 fashion .i.e. \n",
        "# Testing set is 50% of combined dataset \n",
        "# Validation set is 50% of combined dataset \n",
        "x_val, x_test, y_val, y_test = train_test_split(X_test, \n",
        "\t\t\t\t\t\t\t\t\t\t\t\ty_test, \n",
        "\t\t\t\t\t\t\t\t\t\t\t\ttest_size=0.5, \n",
        "\t\t\t\t\t\t\t\t\t\t\t\trandom_state=42)\n",
        " \n",
        "# Training set \n",
        "print(\"Training set x: \",x_train) \n",
        "print(\"Training set y: \",y_train) \n",
        "print(\" \")\n",
        " \n",
        "# Testing set \n",
        "print(\"Testing set x: \",x_test) \n",
        "print(\"Testing set y: \",y_test) \n",
        "print(\" \")\n",
        " \n",
        "# Validation set \n",
        "print(\"Validation set x: \",x_val) \n",
        "print(\"Validation set y: \",y_val) "
      ],
      "outputs": [
        {
          "output_type": "stream",
          "name": "stdout",
          "text": "Training set x:         total_sqft  bath  balcony  bhk  price_per_sqft  5th Phase JP Nagar  \\\n3143       1280.0   2.0      2.0    2     4062.500000                   0   \n2755        645.0   1.0      1.0    1     2550.387597                   0   \n5433       1580.0   3.0      3.0    3     3389.873418                   0   \n8271       3569.0   4.0      1.0    4    16811.431774                   0   \n2405       1036.0   2.0      3.0    2     3798.262548                   0   \n...           ...   ...      ...  ...             ...                 ...   \n12788      1583.0   3.0      1.0    3     6015.792798                   0   \n5557       2396.0   4.0      2.0    4    13564.273790                   0   \n5771       1425.0   2.0      2.0    3     4561.403509                   0   \n918        1300.0   1.0      0.0    1    15384.615385                   0   \n7807       1240.0   2.0      1.0    2     4724.193548                   0   \n\n       7th Phase JP Nagar  8th Phase JP Nagar  9th Phase JP Nagar  \\\n3143                    0                   0                   0   \n2755                    0                   0                   0   \n5433                    0                   0                   0   \n8271                    0                   0                   0   \n2405                    0                   0                   0   \n...                   ...                 ...                 ...   \n12788                   0                   0                   0   \n5557                    0                   0                   0   \n5771                    0                   0                   0   \n918                     0                   0                   0   \n7807                    0                   0                   0   \n\n       Akshaya Nagar  ...  Tumkur Road  Uttarahalli  Varthur  Vidyaranyapura  \\\n3143               0  ...            0            0        0               0   \n2755               0  ...            0            0        0               0   \n5433               0  ...            0            0        0               0   \n8271               0  ...            0            0        0               0   \n2405               0  ...            0            0        0               0   \n...              ...  ...          ...          ...      ...             ...   \n12788              0  ...            0            0        0               0   \n5557               0  ...            0            0        0               0   \n5771               0  ...            0            0        0               0   \n918                0  ...            0            0        0               0   \n7807               0  ...            0            0        0               0   \n\n       Vijayanagar  Vittasandra  Whitefield  Yelahanka  Yelahanka New Town  \\\n3143             0            0           1          0                   0   \n2755             0            0           0          0                   0   \n5433             0            0           0          0                   0   \n8271             0            0           0          0                   0   \n2405             0            0           0          1                   0   \n...            ...          ...         ...        ...                 ...   \n12788            0            0           0          0                   0   \n5557             0            0           0          0                   0   \n5771             0            0           0          0                   0   \n918              0            0           0          0                   0   \n7807             0            0           0          0                   0   \n\n       Yeshwanthpur  \n3143              0  \n2755              0  \n5433              0  \n8271              0  \n2405              0  \n...             ...  \n12788             0  \n5557              0  \n5771              0  \n918               0  \n7807              0  \n\n[9964 rows x 122 columns]\nTraining set y:  3143      52.00\n2755      16.45\n5433      53.56\n8271     600.00\n2405      39.35\n          ...  \n12788     95.23\n5557     325.00\n5771      65.00\n918      200.00\n7807      58.58\nName: price, Length: 9964, dtype: float64\n \nTesting set x:         total_sqft  bath  balcony  bhk  price_per_sqft  5th Phase JP Nagar  \\\n6519       1245.0   2.0      3.0    2     4979.919679                   0   \n8896       1200.0   2.0      2.0    3     5416.666667                   0   \n42          600.0   1.0      0.0    1     6333.333333                   0   \n3468        717.0   2.0      0.0    2     6900.278940                   0   \n1846       1300.0   2.0      0.0    2     9230.769231                   0   \n...           ...   ...      ...  ...             ...                 ...   \n7518       1749.0   3.0      2.0    3     6861.063465                   0   \n12884      1850.0   3.0      3.0    3     5945.945946                   0   \n5264       1560.0   2.0      2.0    3     4166.666667                   0   \n849        1240.0   3.0      2.0    3     3508.064516                   0   \n506        1115.0   2.0      1.0    2     3587.443946                   0   \n\n       7th Phase JP Nagar  8th Phase JP Nagar  9th Phase JP Nagar  \\\n6519                    0                   0                   0   \n8896                    0                   0                   0   \n42                      0                   0                   0   \n3468                    0                   0                   0   \n1846                    0                   0                   0   \n...                   ...                 ...                 ...   \n7518                    0                   0                   0   \n12884                   0                   0                   0   \n5264                    0                   0                   0   \n849                     0                   1                   0   \n506                     0                   0                   0   \n\n       Akshaya Nagar  ...  Tumkur Road  Uttarahalli  Varthur  Vidyaranyapura  \\\n6519               0  ...            0            0        0               0   \n8896               0  ...            0            0        0               1   \n42                 0  ...            0            0        0               0   \n3468               0  ...            0            0        0               0   \n1846               0  ...            0            0        0               0   \n...              ...  ...          ...          ...      ...             ...   \n7518               0  ...            0            0        0               0   \n12884              0  ...            0            0        0               0   \n5264               0  ...            0            0        0               0   \n849                0  ...            0            0        0               0   \n506                0  ...            0            0        0               0   \n\n       Vijayanagar  Vittasandra  Whitefield  Yelahanka  Yelahanka New Town  \\\n6519             0            0           0          0                   0   \n8896             0            0           0          0                   0   \n42               0            0           0          0                   0   \n3468             0            0           0          0                   0   \n1846             0            0           0          0                   0   \n...            ...          ...         ...        ...                 ...   \n7518             0            0           0          0                   0   \n12884            0            0           0          0                   0   \n5264             0            0           0          0                   0   \n849              0            0           0          0                   0   \n506              0            0           0          0                   0   \n\n       Yeshwanthpur  \n6519              0  \n8896              0  \n42                0  \n3468              1  \n1846              0  \n...             ...  \n7518              0  \n12884             0  \n5264              0  \n849               0  \n506               0  \n\n[1246 rows x 122 columns]\nTesting set y:  6519      62.000\n8896      65.000\n42        38.000\n3468      49.475\n1846     120.000\n          ...   \n7518     120.000\n12884    110.000\n5264      65.000\n849       43.500\n506       40.000\nName: price, Length: 1246, dtype: float64\n \nValidation set x:         total_sqft  bath  balcony  bhk  price_per_sqft  5th Phase JP Nagar  \\\n97         1330.0   2.0      1.0    3     3609.022556                   0   \n10158      4025.0   6.0      1.0    4     8695.652174                   0   \n5101       1465.0   3.0      2.0    3     5461.433447                   0   \n1288       1635.0   2.0      0.0    3     4770.642202                   0   \n8104       1404.0   2.0      2.0    2     4985.754986                   0   \n...           ...   ...      ...  ...             ...                 ...   \n9875       1723.0   3.0      2.0    3     5513.639002                   0   \n544        1500.0   3.0      1.0    3     4130.000000                   0   \n8172       2625.0   3.0      3.0    3     6666.666667                   0   \n10794      1626.6   3.0      1.0    3     8176.564613                   0   \n4760       1035.0   2.0      2.0    2     4396.135266                   0   \n\n       7th Phase JP Nagar  8th Phase JP Nagar  9th Phase JP Nagar  \\\n97                      0                   0                   0   \n10158                   0                   0                   0   \n5101                    0                   0                   0   \n1288                    0                   0                   0   \n8104                    0                   0                   0   \n...                   ...                 ...                 ...   \n9875                    0                   0                   0   \n544                     0                   0                   0   \n8172                    0                   0                   0   \n10794                   0                   0                   0   \n4760                    0                   0                   0   \n\n       Akshaya Nagar  ...  Tumkur Road  Uttarahalli  Varthur  Vidyaranyapura  \\\n97                 0  ...            0            0        0               0   \n10158              0  ...            0            0        0               0   \n5101               0  ...            0            0        0               0   \n1288               0  ...            0            0        0               0   \n8104               0  ...            0            0        0               0   \n...              ...  ...          ...          ...      ...             ...   \n9875               0  ...            0            0        0               0   \n544                0  ...            0            0        0               0   \n8172               0  ...            0            0        0               0   \n10794              0  ...            0            0        0               0   \n4760               0  ...            0            0        0               0   \n\n       Vijayanagar  Vittasandra  Whitefield  Yelahanka  Yelahanka New Town  \\\n97               0            0           0          0                   0   \n10158            0            0           0          1                   0   \n5101             0            0           0          1                   0   \n1288             0            0           0          0                   0   \n8104             0            1           0          0                   0   \n...            ...          ...         ...        ...                 ...   \n9875             0            0           0          0                   0   \n544              0            0           1          0                   0   \n8172             0            0           0          0                   0   \n10794            0            0           0          0                   0   \n4760             0            0           0          0                   0   \n\n       Yeshwanthpur  \n97                0  \n10158             0  \n5101              0  \n1288              0  \n8104              0  \n...             ...  \n9875              0  \n544               0  \n8172              0  \n10794             0  \n4760              0  \n\n[1246 rows x 122 columns]\nValidation set y:  97        48.00\n10158    350.00\n5101      80.01\n1288      78.00\n8104      70.00\n          ...  \n9875      95.00\n544       61.95\n8172     175.00\n10794    133.00\n4760      45.50\nName: price, Length: 1246, dtype: float64\n"
        }
      ],
      "execution_count": 117,
      "metadata": {
        "jupyter": {
          "source_hidden": false,
          "outputs_hidden": false
        },
        "nteract": {
          "transient": {
            "deleting": false
          }
        },
        "gather": {
          "logged": 1715765059646
        }
      }
    }
  ],
  "metadata": {
    "kernelspec": {
      "name": "python38-azureml",
      "language": "python",
      "display_name": "Python 3.8 - AzureML"
    },
    "language_info": {
      "name": "python",
      "version": "3.8.5",
      "mimetype": "text/x-python",
      "codemirror_mode": {
        "name": "ipython",
        "version": 3
      },
      "pygments_lexer": "ipython3",
      "nbconvert_exporter": "python",
      "file_extension": ".py"
    },
    "microsoft": {
      "ms_spell_check": {
        "ms_spell_check_language": "en"
      },
      "host": {
        "AzureML": {
          "notebookHasBeenCompleted": true
        }
      }
    },
    "kernel_info": {
      "name": "python38-azureml"
    },
    "nteract": {
      "version": "nteract-front-end@1.0.0"
    }
  },
  "nbformat": 4,
  "nbformat_minor": 2
}